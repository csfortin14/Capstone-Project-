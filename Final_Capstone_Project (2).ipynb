{
 "cells": [
  {
   "cell_type": "markdown",
   "metadata": {},
   "source": [
    "# Capstone Project - Predicting Vehicle Collision Severity\n",
    "### Applied Data Science Capstone by Carlos Fortin"
   ]
  },
  {
   "cell_type": "markdown",
   "metadata": {},
   "source": [
    "## Introduction: Business Problem <a name=\"introduction\"></a>"
   ]
  },
  {
   "cell_type": "markdown",
   "metadata": {},
   "source": [
    "### Background"
   ]
  },
  {
   "cell_type": "markdown",
   "metadata": {},
   "source": [
    "Today, most people in the developed world drive some type of motor vehicle daily. They drive to and from work, take their loved ones on vacations trips, their children to school and often do daily chores such as going to the supermarket utilizing their vehicles. Unfortunately, the more vehicles the more accidents take place. Some of these accidents are severe and can cost lives. \n",
    "For an accident to occur, there are many factors involved such as traffic violations (speeding, running a red light, etc.), mechanical failures such as a flat tire causing the driver to lose control and sometimes weather or road conditions might be poor causing the driver to struggle to keep control. \n"
   ]
  },
  {
   "cell_type": "markdown",
   "metadata": {},
   "source": [
    "### Problem \n",
    "The purpose of this report is to identify key features that increase the likelihood of an accident to occur and use them to create a model that can predict the severity of that accident so that future drivers might be able to understand the risk associated with their driving under specific conditions. "
   ]
  },
  {
   "cell_type": "markdown",
   "metadata": {},
   "source": [
    "## Data Aqcuisition and Cleaning \n",
    "### Source \n",
    "For this analysis and the model, the data from https://s3.us.cloud-object-storage.appdomain.cloud/cf-courses-data/CognitiveClass/DP0701EN/version-2/Data-Collisions.csv was used. This data originally contained +190,000 rows and 38 columns (features). "
   ]
  },
  {
   "cell_type": "markdown",
   "metadata": {},
   "source": [
    "### Data Cleaning\n",
    "Before any analysis and modeling, the data was first studied and cleansed. At first glance, there were several features that seemed to be redundant and missing so those were removed. Additionally, extreme outliers or data that seemed to be entered in mistake were also removed. "
   ]
  },
  {
   "cell_type": "code",
   "execution_count": 1,
   "metadata": {},
   "outputs": [],
   "source": [
    "import pandas as pd\n",
    "import numpy as np \n",
    "import os"
   ]
  },
  {
   "cell_type": "code",
   "execution_count": 2,
   "metadata": {},
   "outputs": [
    {
     "name": "stdout",
     "output_type": "stream",
     "text": [
      "Hello Capstone Project Course!\n"
     ]
    }
   ],
   "source": [
    "print(\"Hello Capstone Project Course!\")"
   ]
  },
  {
   "cell_type": "code",
   "execution_count": 3,
   "metadata": {},
   "outputs": [
    {
     "name": "stderr",
     "output_type": "stream",
     "text": [
      "/home/jupyterlab/conda/envs/python/lib/python3.6/site-packages/IPython/core/interactiveshell.py:3072: DtypeWarning: Columns (33) have mixed types.Specify dtype option on import or set low_memory=False.\n",
      "  interactivity=interactivity, compiler=compiler, result=result)\n"
     ]
    },
    {
     "data": {
      "text/html": [
       "<div>\n",
       "<style scoped>\n",
       "    .dataframe tbody tr th:only-of-type {\n",
       "        vertical-align: middle;\n",
       "    }\n",
       "\n",
       "    .dataframe tbody tr th {\n",
       "        vertical-align: top;\n",
       "    }\n",
       "\n",
       "    .dataframe thead th {\n",
       "        text-align: right;\n",
       "    }\n",
       "</style>\n",
       "<table border=\"1\" class=\"dataframe\">\n",
       "  <thead>\n",
       "    <tr style=\"text-align: right;\">\n",
       "      <th></th>\n",
       "      <th>SEVERITYCODE</th>\n",
       "      <th>X</th>\n",
       "      <th>Y</th>\n",
       "      <th>OBJECTID</th>\n",
       "      <th>INCKEY</th>\n",
       "      <th>COLDETKEY</th>\n",
       "      <th>REPORTNO</th>\n",
       "      <th>STATUS</th>\n",
       "      <th>ADDRTYPE</th>\n",
       "      <th>INTKEY</th>\n",
       "      <th>...</th>\n",
       "      <th>ROADCOND</th>\n",
       "      <th>LIGHTCOND</th>\n",
       "      <th>PEDROWNOTGRNT</th>\n",
       "      <th>SDOTCOLNUM</th>\n",
       "      <th>SPEEDING</th>\n",
       "      <th>ST_COLCODE</th>\n",
       "      <th>ST_COLDESC</th>\n",
       "      <th>SEGLANEKEY</th>\n",
       "      <th>CROSSWALKKEY</th>\n",
       "      <th>HITPARKEDCAR</th>\n",
       "    </tr>\n",
       "  </thead>\n",
       "  <tbody>\n",
       "    <tr>\n",
       "      <th>0</th>\n",
       "      <td>2</td>\n",
       "      <td>-122.323148</td>\n",
       "      <td>47.703140</td>\n",
       "      <td>1</td>\n",
       "      <td>1307</td>\n",
       "      <td>1307</td>\n",
       "      <td>3502005</td>\n",
       "      <td>Matched</td>\n",
       "      <td>Intersection</td>\n",
       "      <td>37475.0</td>\n",
       "      <td>...</td>\n",
       "      <td>Wet</td>\n",
       "      <td>Daylight</td>\n",
       "      <td>NaN</td>\n",
       "      <td>NaN</td>\n",
       "      <td>NaN</td>\n",
       "      <td>10</td>\n",
       "      <td>Entering at angle</td>\n",
       "      <td>0</td>\n",
       "      <td>0</td>\n",
       "      <td>N</td>\n",
       "    </tr>\n",
       "    <tr>\n",
       "      <th>1</th>\n",
       "      <td>1</td>\n",
       "      <td>-122.347294</td>\n",
       "      <td>47.647172</td>\n",
       "      <td>2</td>\n",
       "      <td>52200</td>\n",
       "      <td>52200</td>\n",
       "      <td>2607959</td>\n",
       "      <td>Matched</td>\n",
       "      <td>Block</td>\n",
       "      <td>NaN</td>\n",
       "      <td>...</td>\n",
       "      <td>Wet</td>\n",
       "      <td>Dark - Street Lights On</td>\n",
       "      <td>NaN</td>\n",
       "      <td>6354039.0</td>\n",
       "      <td>NaN</td>\n",
       "      <td>11</td>\n",
       "      <td>From same direction - both going straight - bo...</td>\n",
       "      <td>0</td>\n",
       "      <td>0</td>\n",
       "      <td>N</td>\n",
       "    </tr>\n",
       "    <tr>\n",
       "      <th>2</th>\n",
       "      <td>1</td>\n",
       "      <td>-122.334540</td>\n",
       "      <td>47.607871</td>\n",
       "      <td>3</td>\n",
       "      <td>26700</td>\n",
       "      <td>26700</td>\n",
       "      <td>1482393</td>\n",
       "      <td>Matched</td>\n",
       "      <td>Block</td>\n",
       "      <td>NaN</td>\n",
       "      <td>...</td>\n",
       "      <td>Dry</td>\n",
       "      <td>Daylight</td>\n",
       "      <td>NaN</td>\n",
       "      <td>4323031.0</td>\n",
       "      <td>NaN</td>\n",
       "      <td>32</td>\n",
       "      <td>One parked--one moving</td>\n",
       "      <td>0</td>\n",
       "      <td>0</td>\n",
       "      <td>N</td>\n",
       "    </tr>\n",
       "    <tr>\n",
       "      <th>3</th>\n",
       "      <td>1</td>\n",
       "      <td>-122.334803</td>\n",
       "      <td>47.604803</td>\n",
       "      <td>4</td>\n",
       "      <td>1144</td>\n",
       "      <td>1144</td>\n",
       "      <td>3503937</td>\n",
       "      <td>Matched</td>\n",
       "      <td>Block</td>\n",
       "      <td>NaN</td>\n",
       "      <td>...</td>\n",
       "      <td>Dry</td>\n",
       "      <td>Daylight</td>\n",
       "      <td>NaN</td>\n",
       "      <td>NaN</td>\n",
       "      <td>NaN</td>\n",
       "      <td>23</td>\n",
       "      <td>From same direction - all others</td>\n",
       "      <td>0</td>\n",
       "      <td>0</td>\n",
       "      <td>N</td>\n",
       "    </tr>\n",
       "    <tr>\n",
       "      <th>4</th>\n",
       "      <td>2</td>\n",
       "      <td>-122.306426</td>\n",
       "      <td>47.545739</td>\n",
       "      <td>5</td>\n",
       "      <td>17700</td>\n",
       "      <td>17700</td>\n",
       "      <td>1807429</td>\n",
       "      <td>Matched</td>\n",
       "      <td>Intersection</td>\n",
       "      <td>34387.0</td>\n",
       "      <td>...</td>\n",
       "      <td>Wet</td>\n",
       "      <td>Daylight</td>\n",
       "      <td>NaN</td>\n",
       "      <td>4028032.0</td>\n",
       "      <td>NaN</td>\n",
       "      <td>10</td>\n",
       "      <td>Entering at angle</td>\n",
       "      <td>0</td>\n",
       "      <td>0</td>\n",
       "      <td>N</td>\n",
       "    </tr>\n",
       "  </tbody>\n",
       "</table>\n",
       "<p>5 rows × 38 columns</p>\n",
       "</div>"
      ],
      "text/plain": [
       "   SEVERITYCODE           X          Y  OBJECTID  INCKEY  COLDETKEY REPORTNO  \\\n",
       "0             2 -122.323148  47.703140         1    1307       1307  3502005   \n",
       "1             1 -122.347294  47.647172         2   52200      52200  2607959   \n",
       "2             1 -122.334540  47.607871         3   26700      26700  1482393   \n",
       "3             1 -122.334803  47.604803         4    1144       1144  3503937   \n",
       "4             2 -122.306426  47.545739         5   17700      17700  1807429   \n",
       "\n",
       "    STATUS      ADDRTYPE   INTKEY  ... ROADCOND                LIGHTCOND  \\\n",
       "0  Matched  Intersection  37475.0  ...      Wet                 Daylight   \n",
       "1  Matched         Block      NaN  ...      Wet  Dark - Street Lights On   \n",
       "2  Matched         Block      NaN  ...      Dry                 Daylight   \n",
       "3  Matched         Block      NaN  ...      Dry                 Daylight   \n",
       "4  Matched  Intersection  34387.0  ...      Wet                 Daylight   \n",
       "\n",
       "  PEDROWNOTGRNT  SDOTCOLNUM SPEEDING ST_COLCODE  \\\n",
       "0           NaN         NaN      NaN         10   \n",
       "1           NaN   6354039.0      NaN         11   \n",
       "2           NaN   4323031.0      NaN         32   \n",
       "3           NaN         NaN      NaN         23   \n",
       "4           NaN   4028032.0      NaN         10   \n",
       "\n",
       "                                          ST_COLDESC  SEGLANEKEY  \\\n",
       "0                                  Entering at angle           0   \n",
       "1  From same direction - both going straight - bo...           0   \n",
       "2                             One parked--one moving           0   \n",
       "3                   From same direction - all others           0   \n",
       "4                                  Entering at angle           0   \n",
       "\n",
       "   CROSSWALKKEY  HITPARKEDCAR  \n",
       "0             0             N  \n",
       "1             0             N  \n",
       "2             0             N  \n",
       "3             0             N  \n",
       "4             0             N  \n",
       "\n",
       "[5 rows x 38 columns]"
      ]
     },
     "execution_count": 3,
     "metadata": {},
     "output_type": "execute_result"
    }
   ],
   "source": [
    "#read US accident Data \n",
    "df = pd.read_csv(\"Data-Collisions.csv\")\n",
    "df.head(5)"
   ]
  },
  {
   "cell_type": "code",
   "execution_count": 4,
   "metadata": {},
   "outputs": [
    {
     "data": {
      "text/plain": [
       "(194673, 38)"
      ]
     },
     "execution_count": 4,
     "metadata": {},
     "output_type": "execute_result"
    }
   ],
   "source": [
    "df.shape"
   ]
  },
  {
   "cell_type": "code",
   "execution_count": 5,
   "metadata": {},
   "outputs": [
    {
     "data": {
      "text/html": [
       "<div>\n",
       "<style scoped>\n",
       "    .dataframe tbody tr th:only-of-type {\n",
       "        vertical-align: middle;\n",
       "    }\n",
       "\n",
       "    .dataframe tbody tr th {\n",
       "        vertical-align: top;\n",
       "    }\n",
       "\n",
       "    .dataframe thead th {\n",
       "        text-align: right;\n",
       "    }\n",
       "</style>\n",
       "<table border=\"1\" class=\"dataframe\">\n",
       "  <thead>\n",
       "    <tr style=\"text-align: right;\">\n",
       "      <th></th>\n",
       "      <th>SEVERITYCODE</th>\n",
       "      <th>X</th>\n",
       "      <th>Y</th>\n",
       "      <th>OBJECTID</th>\n",
       "      <th>INCKEY</th>\n",
       "      <th>COLDETKEY</th>\n",
       "      <th>INTKEY</th>\n",
       "      <th>SEVERITYCODE.1</th>\n",
       "      <th>PERSONCOUNT</th>\n",
       "      <th>PEDCOUNT</th>\n",
       "      <th>PEDCYLCOUNT</th>\n",
       "      <th>VEHCOUNT</th>\n",
       "      <th>SDOT_COLCODE</th>\n",
       "      <th>SDOTCOLNUM</th>\n",
       "      <th>SEGLANEKEY</th>\n",
       "      <th>CROSSWALKKEY</th>\n",
       "    </tr>\n",
       "  </thead>\n",
       "  <tbody>\n",
       "    <tr>\n",
       "      <th>count</th>\n",
       "      <td>194673.000000</td>\n",
       "      <td>189339.000000</td>\n",
       "      <td>189339.000000</td>\n",
       "      <td>194673.000000</td>\n",
       "      <td>194673.000000</td>\n",
       "      <td>194673.000000</td>\n",
       "      <td>65070.000000</td>\n",
       "      <td>194673.000000</td>\n",
       "      <td>194673.000000</td>\n",
       "      <td>194673.000000</td>\n",
       "      <td>194673.000000</td>\n",
       "      <td>194673.000000</td>\n",
       "      <td>194673.000000</td>\n",
       "      <td>1.149360e+05</td>\n",
       "      <td>194673.000000</td>\n",
       "      <td>1.946730e+05</td>\n",
       "    </tr>\n",
       "    <tr>\n",
       "      <th>mean</th>\n",
       "      <td>1.298901</td>\n",
       "      <td>-122.330518</td>\n",
       "      <td>47.619543</td>\n",
       "      <td>108479.364930</td>\n",
       "      <td>141091.456350</td>\n",
       "      <td>141298.811381</td>\n",
       "      <td>37558.450576</td>\n",
       "      <td>1.298901</td>\n",
       "      <td>2.444427</td>\n",
       "      <td>0.037139</td>\n",
       "      <td>0.028391</td>\n",
       "      <td>1.920780</td>\n",
       "      <td>13.867768</td>\n",
       "      <td>7.972521e+06</td>\n",
       "      <td>269.401114</td>\n",
       "      <td>9.782452e+03</td>\n",
       "    </tr>\n",
       "    <tr>\n",
       "      <th>std</th>\n",
       "      <td>0.457778</td>\n",
       "      <td>0.029976</td>\n",
       "      <td>0.056157</td>\n",
       "      <td>62649.722558</td>\n",
       "      <td>86634.402737</td>\n",
       "      <td>86986.542110</td>\n",
       "      <td>51745.990273</td>\n",
       "      <td>0.457778</td>\n",
       "      <td>1.345929</td>\n",
       "      <td>0.198150</td>\n",
       "      <td>0.167413</td>\n",
       "      <td>0.631047</td>\n",
       "      <td>6.868755</td>\n",
       "      <td>2.553533e+06</td>\n",
       "      <td>3315.776055</td>\n",
       "      <td>7.226926e+04</td>\n",
       "    </tr>\n",
       "    <tr>\n",
       "      <th>min</th>\n",
       "      <td>1.000000</td>\n",
       "      <td>-122.419091</td>\n",
       "      <td>47.495573</td>\n",
       "      <td>1.000000</td>\n",
       "      <td>1001.000000</td>\n",
       "      <td>1001.000000</td>\n",
       "      <td>23807.000000</td>\n",
       "      <td>1.000000</td>\n",
       "      <td>0.000000</td>\n",
       "      <td>0.000000</td>\n",
       "      <td>0.000000</td>\n",
       "      <td>0.000000</td>\n",
       "      <td>0.000000</td>\n",
       "      <td>1.007024e+06</td>\n",
       "      <td>0.000000</td>\n",
       "      <td>0.000000e+00</td>\n",
       "    </tr>\n",
       "    <tr>\n",
       "      <th>25%</th>\n",
       "      <td>1.000000</td>\n",
       "      <td>-122.348673</td>\n",
       "      <td>47.575956</td>\n",
       "      <td>54267.000000</td>\n",
       "      <td>70383.000000</td>\n",
       "      <td>70383.000000</td>\n",
       "      <td>28667.000000</td>\n",
       "      <td>1.000000</td>\n",
       "      <td>2.000000</td>\n",
       "      <td>0.000000</td>\n",
       "      <td>0.000000</td>\n",
       "      <td>2.000000</td>\n",
       "      <td>11.000000</td>\n",
       "      <td>6.040015e+06</td>\n",
       "      <td>0.000000</td>\n",
       "      <td>0.000000e+00</td>\n",
       "    </tr>\n",
       "    <tr>\n",
       "      <th>50%</th>\n",
       "      <td>1.000000</td>\n",
       "      <td>-122.330224</td>\n",
       "      <td>47.615369</td>\n",
       "      <td>106912.000000</td>\n",
       "      <td>123363.000000</td>\n",
       "      <td>123363.000000</td>\n",
       "      <td>29973.000000</td>\n",
       "      <td>1.000000</td>\n",
       "      <td>2.000000</td>\n",
       "      <td>0.000000</td>\n",
       "      <td>0.000000</td>\n",
       "      <td>2.000000</td>\n",
       "      <td>13.000000</td>\n",
       "      <td>8.023022e+06</td>\n",
       "      <td>0.000000</td>\n",
       "      <td>0.000000e+00</td>\n",
       "    </tr>\n",
       "    <tr>\n",
       "      <th>75%</th>\n",
       "      <td>2.000000</td>\n",
       "      <td>-122.311937</td>\n",
       "      <td>47.663664</td>\n",
       "      <td>162272.000000</td>\n",
       "      <td>203319.000000</td>\n",
       "      <td>203459.000000</td>\n",
       "      <td>33973.000000</td>\n",
       "      <td>2.000000</td>\n",
       "      <td>3.000000</td>\n",
       "      <td>0.000000</td>\n",
       "      <td>0.000000</td>\n",
       "      <td>2.000000</td>\n",
       "      <td>14.000000</td>\n",
       "      <td>1.015501e+07</td>\n",
       "      <td>0.000000</td>\n",
       "      <td>0.000000e+00</td>\n",
       "    </tr>\n",
       "    <tr>\n",
       "      <th>max</th>\n",
       "      <td>2.000000</td>\n",
       "      <td>-122.238949</td>\n",
       "      <td>47.734142</td>\n",
       "      <td>219547.000000</td>\n",
       "      <td>331454.000000</td>\n",
       "      <td>332954.000000</td>\n",
       "      <td>757580.000000</td>\n",
       "      <td>2.000000</td>\n",
       "      <td>81.000000</td>\n",
       "      <td>6.000000</td>\n",
       "      <td>2.000000</td>\n",
       "      <td>12.000000</td>\n",
       "      <td>69.000000</td>\n",
       "      <td>1.307202e+07</td>\n",
       "      <td>525241.000000</td>\n",
       "      <td>5.239700e+06</td>\n",
       "    </tr>\n",
       "  </tbody>\n",
       "</table>\n",
       "</div>"
      ],
      "text/plain": [
       "        SEVERITYCODE              X              Y       OBJECTID  \\\n",
       "count  194673.000000  189339.000000  189339.000000  194673.000000   \n",
       "mean        1.298901    -122.330518      47.619543  108479.364930   \n",
       "std         0.457778       0.029976       0.056157   62649.722558   \n",
       "min         1.000000    -122.419091      47.495573       1.000000   \n",
       "25%         1.000000    -122.348673      47.575956   54267.000000   \n",
       "50%         1.000000    -122.330224      47.615369  106912.000000   \n",
       "75%         2.000000    -122.311937      47.663664  162272.000000   \n",
       "max         2.000000    -122.238949      47.734142  219547.000000   \n",
       "\n",
       "              INCKEY      COLDETKEY         INTKEY  SEVERITYCODE.1  \\\n",
       "count  194673.000000  194673.000000   65070.000000   194673.000000   \n",
       "mean   141091.456350  141298.811381   37558.450576        1.298901   \n",
       "std     86634.402737   86986.542110   51745.990273        0.457778   \n",
       "min      1001.000000    1001.000000   23807.000000        1.000000   \n",
       "25%     70383.000000   70383.000000   28667.000000        1.000000   \n",
       "50%    123363.000000  123363.000000   29973.000000        1.000000   \n",
       "75%    203319.000000  203459.000000   33973.000000        2.000000   \n",
       "max    331454.000000  332954.000000  757580.000000        2.000000   \n",
       "\n",
       "         PERSONCOUNT       PEDCOUNT    PEDCYLCOUNT       VEHCOUNT  \\\n",
       "count  194673.000000  194673.000000  194673.000000  194673.000000   \n",
       "mean        2.444427       0.037139       0.028391       1.920780   \n",
       "std         1.345929       0.198150       0.167413       0.631047   \n",
       "min         0.000000       0.000000       0.000000       0.000000   \n",
       "25%         2.000000       0.000000       0.000000       2.000000   \n",
       "50%         2.000000       0.000000       0.000000       2.000000   \n",
       "75%         3.000000       0.000000       0.000000       2.000000   \n",
       "max        81.000000       6.000000       2.000000      12.000000   \n",
       "\n",
       "        SDOT_COLCODE    SDOTCOLNUM     SEGLANEKEY  CROSSWALKKEY  \n",
       "count  194673.000000  1.149360e+05  194673.000000  1.946730e+05  \n",
       "mean       13.867768  7.972521e+06     269.401114  9.782452e+03  \n",
       "std         6.868755  2.553533e+06    3315.776055  7.226926e+04  \n",
       "min         0.000000  1.007024e+06       0.000000  0.000000e+00  \n",
       "25%        11.000000  6.040015e+06       0.000000  0.000000e+00  \n",
       "50%        13.000000  8.023022e+06       0.000000  0.000000e+00  \n",
       "75%        14.000000  1.015501e+07       0.000000  0.000000e+00  \n",
       "max        69.000000  1.307202e+07  525241.000000  5.239700e+06  "
      ]
     },
     "execution_count": 5,
     "metadata": {},
     "output_type": "execute_result"
    }
   ],
   "source": [
    "df.describe()"
   ]
  },
  {
   "cell_type": "code",
   "execution_count": 6,
   "metadata": {},
   "outputs": [],
   "source": [
    "#drops all columns that will not be used for this analysis and create new Data Frame \n",
    "clean_df= df.drop(columns=['ADDRTYPE','INTKEY','X','Y','INCDATE','PEDROWNOTGRNT','INATTENTIONIND','ST_COLCODE','ST_COLDESC','HITPARKEDCAR', 'JUNCTIONTYPE','COLDETKEY','EXCEPTRSNCODE','EXCEPTRSNDESC','SEVERITYCODE.1','SDOT_COLCODE','SDOT_COLDESC','SDOTCOLNUM','SEGLANEKEY', 'CROSSWALKKEY','STATUS','REPORTNO'])"
   ]
  },
  {
   "cell_type": "code",
   "execution_count": 7,
   "metadata": {},
   "outputs": [
    {
     "data": {
      "text/plain": [
       "['SEVERITYCODE',\n",
       " 'OBJECTID',\n",
       " 'INCKEY',\n",
       " 'LOCATION',\n",
       " 'SEVERITYDESC',\n",
       " 'COLLISIONTYPE',\n",
       " 'PERSONCOUNT',\n",
       " 'PEDCOUNT',\n",
       " 'PEDCYLCOUNT',\n",
       " 'VEHCOUNT',\n",
       " 'INCDTTM',\n",
       " 'UNDERINFL',\n",
       " 'WEATHER',\n",
       " 'ROADCOND',\n",
       " 'LIGHTCOND',\n",
       " 'SPEEDING']"
      ]
     },
     "execution_count": 7,
     "metadata": {},
     "output_type": "execute_result"
    }
   ],
   "source": [
    "#Shows remaining Columns in DF \n",
    "list(clean_df.columns)\n"
   ]
  },
  {
   "cell_type": "code",
   "execution_count": 8,
   "metadata": {},
   "outputs": [
    {
     "data": {
      "text/plain": [
       "(194673, 16)"
      ]
     },
     "execution_count": 8,
     "metadata": {},
     "output_type": "execute_result"
    }
   ],
   "source": [
    "clean_df.shape"
   ]
  },
  {
   "cell_type": "code",
   "execution_count": 9,
   "metadata": {},
   "outputs": [
    {
     "data": {
      "text/html": [
       "<div>\n",
       "<style scoped>\n",
       "    .dataframe tbody tr th:only-of-type {\n",
       "        vertical-align: middle;\n",
       "    }\n",
       "\n",
       "    .dataframe tbody tr th {\n",
       "        vertical-align: top;\n",
       "    }\n",
       "\n",
       "    .dataframe thead th {\n",
       "        text-align: right;\n",
       "    }\n",
       "</style>\n",
       "<table border=\"1\" class=\"dataframe\">\n",
       "  <thead>\n",
       "    <tr style=\"text-align: right;\">\n",
       "      <th></th>\n",
       "      <th>SEVERITYCODE</th>\n",
       "      <th>OBJECTID</th>\n",
       "      <th>INCKEY</th>\n",
       "      <th>LOCATION</th>\n",
       "      <th>SEVERITYDESC</th>\n",
       "      <th>COLLISIONTYPE</th>\n",
       "      <th>PERSONCOUNT</th>\n",
       "      <th>PEDCOUNT</th>\n",
       "      <th>PEDCYLCOUNT</th>\n",
       "      <th>VEHCOUNT</th>\n",
       "      <th>INCDTTM</th>\n",
       "      <th>UNDERINFL</th>\n",
       "      <th>WEATHER</th>\n",
       "      <th>ROADCOND</th>\n",
       "      <th>LIGHTCOND</th>\n",
       "      <th>SPEEDING</th>\n",
       "    </tr>\n",
       "  </thead>\n",
       "  <tbody>\n",
       "    <tr>\n",
       "      <th>24</th>\n",
       "      <td>2</td>\n",
       "      <td>33</td>\n",
       "      <td>1268</td>\n",
       "      <td>RAINIER AVE S AND S BRANDON ST</td>\n",
       "      <td>Injury Collision</td>\n",
       "      <td>Rear Ended</td>\n",
       "      <td>3</td>\n",
       "      <td>0</td>\n",
       "      <td>0</td>\n",
       "      <td>2</td>\n",
       "      <td>3/31/2013 10:05:00 AM</td>\n",
       "      <td>N</td>\n",
       "      <td>Clear</td>\n",
       "      <td>Dry</td>\n",
       "      <td>Daylight</td>\n",
       "      <td>Y</td>\n",
       "    </tr>\n",
       "    <tr>\n",
       "      <th>43</th>\n",
       "      <td>2</td>\n",
       "      <td>53</td>\n",
       "      <td>56100</td>\n",
       "      <td>OLSON PL SW BETWEEN 2ND AVE SW AND 3RD AVE SW</td>\n",
       "      <td>Injury Collision</td>\n",
       "      <td>Other</td>\n",
       "      <td>1</td>\n",
       "      <td>0</td>\n",
       "      <td>0</td>\n",
       "      <td>1</td>\n",
       "      <td>9/13/2006 10:46:00 PM</td>\n",
       "      <td>0</td>\n",
       "      <td>Raining</td>\n",
       "      <td>Wet</td>\n",
       "      <td>Dark - Street Lights On</td>\n",
       "      <td>Y</td>\n",
       "    </tr>\n",
       "    <tr>\n",
       "      <th>62</th>\n",
       "      <td>1</td>\n",
       "      <td>74</td>\n",
       "      <td>32000</td>\n",
       "      <td>35TH AVE SW BETWEEN 37TH AVE SW AND MARINE VIE...</td>\n",
       "      <td>Property Damage Only Collision</td>\n",
       "      <td>Parked Car</td>\n",
       "      <td>4</td>\n",
       "      <td>0</td>\n",
       "      <td>0</td>\n",
       "      <td>4</td>\n",
       "      <td>6/24/2004 7:43:00 PM</td>\n",
       "      <td>0</td>\n",
       "      <td>Clear</td>\n",
       "      <td>Dry</td>\n",
       "      <td>Daylight</td>\n",
       "      <td>Y</td>\n",
       "    </tr>\n",
       "    <tr>\n",
       "      <th>123</th>\n",
       "      <td>1</td>\n",
       "      <td>140</td>\n",
       "      <td>29700</td>\n",
       "      <td>MARION ST BETWEEN 2ND AVE AND 3RD AVE</td>\n",
       "      <td>Property Damage Only Collision</td>\n",
       "      <td>Rear Ended</td>\n",
       "      <td>2</td>\n",
       "      <td>0</td>\n",
       "      <td>0</td>\n",
       "      <td>2</td>\n",
       "      <td>3/5/2004</td>\n",
       "      <td>0</td>\n",
       "      <td>Raining</td>\n",
       "      <td>Wet</td>\n",
       "      <td>Daylight</td>\n",
       "      <td>Y</td>\n",
       "    </tr>\n",
       "    <tr>\n",
       "      <th>124</th>\n",
       "      <td>2</td>\n",
       "      <td>141</td>\n",
       "      <td>1135</td>\n",
       "      <td>HARVARD AVE AND E DENNY WAY</td>\n",
       "      <td>Injury Collision</td>\n",
       "      <td>Angles</td>\n",
       "      <td>2</td>\n",
       "      <td>0</td>\n",
       "      <td>0</td>\n",
       "      <td>2</td>\n",
       "      <td>3/29/2013 4:34:00 PM</td>\n",
       "      <td>Y</td>\n",
       "      <td>Clear</td>\n",
       "      <td>Dry</td>\n",
       "      <td>Daylight</td>\n",
       "      <td>Y</td>\n",
       "    </tr>\n",
       "    <tr>\n",
       "      <th>...</th>\n",
       "      <td>...</td>\n",
       "      <td>...</td>\n",
       "      <td>...</td>\n",
       "      <td>...</td>\n",
       "      <td>...</td>\n",
       "      <td>...</td>\n",
       "      <td>...</td>\n",
       "      <td>...</td>\n",
       "      <td>...</td>\n",
       "      <td>...</td>\n",
       "      <td>...</td>\n",
       "      <td>...</td>\n",
       "      <td>...</td>\n",
       "      <td>...</td>\n",
       "      <td>...</td>\n",
       "      <td>...</td>\n",
       "    </tr>\n",
       "    <tr>\n",
       "      <th>194414</th>\n",
       "      <td>1</td>\n",
       "      <td>219238</td>\n",
       "      <td>309651</td>\n",
       "      <td>S HOLLY ST BETWEEN 30TH AVE S AND 31ST AVE S</td>\n",
       "      <td>Property Damage Only Collision</td>\n",
       "      <td>Parked Car</td>\n",
       "      <td>2</td>\n",
       "      <td>0</td>\n",
       "      <td>0</td>\n",
       "      <td>2</td>\n",
       "      <td>1/4/2019 12:24:00 AM</td>\n",
       "      <td>N</td>\n",
       "      <td>Raining</td>\n",
       "      <td>Wet</td>\n",
       "      <td>Dark - Street Lights On</td>\n",
       "      <td>Y</td>\n",
       "    </tr>\n",
       "    <tr>\n",
       "      <th>194428</th>\n",
       "      <td>2</td>\n",
       "      <td>219255</td>\n",
       "      <td>309595</td>\n",
       "      <td>10TH AVE E AND E ROY E ST</td>\n",
       "      <td>Injury Collision</td>\n",
       "      <td>Pedestrian</td>\n",
       "      <td>2</td>\n",
       "      <td>1</td>\n",
       "      <td>0</td>\n",
       "      <td>1</td>\n",
       "      <td>12/22/2018 3:15:00 PM</td>\n",
       "      <td>N</td>\n",
       "      <td>Overcast</td>\n",
       "      <td>Dry</td>\n",
       "      <td>Dusk</td>\n",
       "      <td>Y</td>\n",
       "    </tr>\n",
       "    <tr>\n",
       "      <th>194481</th>\n",
       "      <td>2</td>\n",
       "      <td>219317</td>\n",
       "      <td>308340</td>\n",
       "      <td>AIRPORT WAY S BETWEEN S HARDY ST AND S OTHELLO ST</td>\n",
       "      <td>Injury Collision</td>\n",
       "      <td>Other</td>\n",
       "      <td>3</td>\n",
       "      <td>0</td>\n",
       "      <td>0</td>\n",
       "      <td>2</td>\n",
       "      <td>12/11/2018 9:15:00 AM</td>\n",
       "      <td>N</td>\n",
       "      <td>Raining</td>\n",
       "      <td>Wet</td>\n",
       "      <td>Daylight</td>\n",
       "      <td>Y</td>\n",
       "    </tr>\n",
       "    <tr>\n",
       "      <th>194492</th>\n",
       "      <td>1</td>\n",
       "      <td>219329</td>\n",
       "      <td>308810</td>\n",
       "      <td>BATTERY ST TUNNEL SB BETWEEN AURORA AVE N AND ...</td>\n",
       "      <td>Property Damage Only Collision</td>\n",
       "      <td>Rear Ended</td>\n",
       "      <td>4</td>\n",
       "      <td>0</td>\n",
       "      <td>0</td>\n",
       "      <td>3</td>\n",
       "      <td>10/25/2018 8:52:00 PM</td>\n",
       "      <td>N</td>\n",
       "      <td>Raining</td>\n",
       "      <td>Wet</td>\n",
       "      <td>Dark - Street Lights On</td>\n",
       "      <td>Y</td>\n",
       "    </tr>\n",
       "    <tr>\n",
       "      <th>194549</th>\n",
       "      <td>1</td>\n",
       "      <td>219399</td>\n",
       "      <td>308693</td>\n",
       "      <td>N 46TH ST BETWEEN PHINNEY TURN RD AND GREEN LA...</td>\n",
       "      <td>Property Damage Only Collision</td>\n",
       "      <td>Other</td>\n",
       "      <td>6</td>\n",
       "      <td>0</td>\n",
       "      <td>0</td>\n",
       "      <td>4</td>\n",
       "      <td>12/22/2018 8:17:00 PM</td>\n",
       "      <td>N</td>\n",
       "      <td>Raining</td>\n",
       "      <td>Wet</td>\n",
       "      <td>Dark - Street Lights On</td>\n",
       "      <td>Y</td>\n",
       "    </tr>\n",
       "  </tbody>\n",
       "</table>\n",
       "<p>9319 rows × 16 columns</p>\n",
       "</div>"
      ],
      "text/plain": [
       "        SEVERITYCODE  OBJECTID  INCKEY  \\\n",
       "24                 2        33    1268   \n",
       "43                 2        53   56100   \n",
       "62                 1        74   32000   \n",
       "123                1       140   29700   \n",
       "124                2       141    1135   \n",
       "...              ...       ...     ...   \n",
       "194414             1    219238  309651   \n",
       "194428             2    219255  309595   \n",
       "194481             2    219317  308340   \n",
       "194492             1    219329  308810   \n",
       "194549             1    219399  308693   \n",
       "\n",
       "                                                 LOCATION  \\\n",
       "24                         RAINIER AVE S AND S BRANDON ST   \n",
       "43          OLSON PL SW BETWEEN 2ND AVE SW AND 3RD AVE SW   \n",
       "62      35TH AVE SW BETWEEN 37TH AVE SW AND MARINE VIE...   \n",
       "123                 MARION ST BETWEEN 2ND AVE AND 3RD AVE   \n",
       "124                           HARVARD AVE AND E DENNY WAY   \n",
       "...                                                   ...   \n",
       "194414       S HOLLY ST BETWEEN 30TH AVE S AND 31ST AVE S   \n",
       "194428                          10TH AVE E AND E ROY E ST   \n",
       "194481  AIRPORT WAY S BETWEEN S HARDY ST AND S OTHELLO ST   \n",
       "194492  BATTERY ST TUNNEL SB BETWEEN AURORA AVE N AND ...   \n",
       "194549  N 46TH ST BETWEEN PHINNEY TURN RD AND GREEN LA...   \n",
       "\n",
       "                          SEVERITYDESC COLLISIONTYPE  PERSONCOUNT  PEDCOUNT  \\\n",
       "24                    Injury Collision    Rear Ended            3         0   \n",
       "43                    Injury Collision         Other            1         0   \n",
       "62      Property Damage Only Collision    Parked Car            4         0   \n",
       "123     Property Damage Only Collision    Rear Ended            2         0   \n",
       "124                   Injury Collision        Angles            2         0   \n",
       "...                                ...           ...          ...       ...   \n",
       "194414  Property Damage Only Collision    Parked Car            2         0   \n",
       "194428                Injury Collision    Pedestrian            2         1   \n",
       "194481                Injury Collision         Other            3         0   \n",
       "194492  Property Damage Only Collision    Rear Ended            4         0   \n",
       "194549  Property Damage Only Collision         Other            6         0   \n",
       "\n",
       "        PEDCYLCOUNT  VEHCOUNT                INCDTTM UNDERINFL   WEATHER  \\\n",
       "24                0         2  3/31/2013 10:05:00 AM         N     Clear   \n",
       "43                0         1  9/13/2006 10:46:00 PM         0   Raining   \n",
       "62                0         4   6/24/2004 7:43:00 PM         0     Clear   \n",
       "123               0         2               3/5/2004         0   Raining   \n",
       "124               0         2   3/29/2013 4:34:00 PM         Y     Clear   \n",
       "...             ...       ...                    ...       ...       ...   \n",
       "194414            0         2   1/4/2019 12:24:00 AM         N   Raining   \n",
       "194428            0         1  12/22/2018 3:15:00 PM         N  Overcast   \n",
       "194481            0         2  12/11/2018 9:15:00 AM         N   Raining   \n",
       "194492            0         3  10/25/2018 8:52:00 PM         N   Raining   \n",
       "194549            0         4  12/22/2018 8:17:00 PM         N   Raining   \n",
       "\n",
       "       ROADCOND                LIGHTCOND SPEEDING  \n",
       "24          Dry                 Daylight        Y  \n",
       "43          Wet  Dark - Street Lights On        Y  \n",
       "62          Dry                 Daylight        Y  \n",
       "123         Wet                 Daylight        Y  \n",
       "124         Dry                 Daylight        Y  \n",
       "...         ...                      ...      ...  \n",
       "194414      Wet  Dark - Street Lights On        Y  \n",
       "194428      Dry                     Dusk        Y  \n",
       "194481      Wet                 Daylight        Y  \n",
       "194492      Wet  Dark - Street Lights On        Y  \n",
       "194549      Wet  Dark - Street Lights On        Y  \n",
       "\n",
       "[9319 rows x 16 columns]"
      ]
     },
     "execution_count": 9,
     "metadata": {},
     "output_type": "execute_result"
    }
   ],
   "source": [
    "#will replace all blank entries for weather, roadcondition and light condition with nan to later drop these \n",
    "#>>> df['columnname'].replace('', np.nan, inplace=True)\n",
    "#>>> df.dropna(subset=['Tenant'], inplace=True)\n",
    "\n",
    "clean_df['WEATHER'].replace('',np.nan,inplace=True)\n",
    "clean_df['ROADCOND'].replace('',np.nan,inplace=True)\n",
    "clean_df['LIGHTCOND'].replace('',np.nan,inplace=True)\n",
    "clean_df['SPEEDING'].replace('',np.nan,inplace=True)\n",
    "clean_df['UNDERINFL'].replace('',np.nan,inplace=True)\n",
    "\n",
    "clean_df.dropna(subset=['WEATHER'], inplace=True)\n",
    "clean_df.dropna(subset=['ROADCOND'], inplace=True)\n",
    "clean_df.dropna(subset=['LIGHTCOND'], inplace=True)\n",
    "clean_df.dropna(subset=['SPEEDING'], inplace=True)\n",
    "clean_df.dropna(subset=['UNDERINFL'], inplace=True)\n",
    "\n",
    "clean_df"
   ]
  },
  {
   "cell_type": "code",
   "execution_count": 10,
   "metadata": {},
   "outputs": [
    {
     "data": {
      "text/plain": [
       "(9319, 16)"
      ]
     },
     "execution_count": 10,
     "metadata": {},
     "output_type": "execute_result"
    }
   ],
   "source": [
    "clean_df.shape\n"
   ]
  },
  {
   "cell_type": "markdown",
   "metadata": {},
   "source": [
    "# Exploratory Data Analysis "
   ]
  },
  {
   "cell_type": "markdown",
   "metadata": {},
   "source": [
    "In this section of the report, I take a deeper dive into the data set. Key features are plotted to better visualize and understand how the data\n",
    "is behaving and to spot any interesting characteristics that might not be obvious at a first glance. "
   ]
  },
  {
   "cell_type": "code",
   "execution_count": 28,
   "metadata": {},
   "outputs": [
    {
     "name": "stdout",
     "output_type": "stream",
     "text": [
      "3524\n",
      "5795\n"
     ]
    },
    {
     "data": {
      "image/png": "[encoded data removed]",
      "text/plain": [
       "<Figure size 432x288 with 1 Axes>"
      ]
     },
     "metadata": {
      "needs_background": "light"
     },
     "output_type": "display_data"
    }
   ],
   "source": [
    "# import matplotlib to visualize data through graphs \n",
    "\n",
    "import matplotlib.pyplot as plot\n",
    "#Loop below counts number of severe accidents- determined to be if there was an injury in the collision \n",
    "\n",
    "severe_count = 0 \n",
    "\n",
    "for i in clean_df['SEVERITYDESC']:\n",
    "    if i == 'Injury Collision':\n",
    "        severe_count += 1 \n",
    "\n",
    "non_severe = (clean_df['SEVERITYDESC'].count() - severe_count)\n",
    "\n",
    "print(severe_count)\n",
    "print(non_severe)\n",
    "\n",
    "#df = pd.DataFrame({'lab':['A', 'B', 'C'], 'val':[10, 30, 20]})\n",
    "#ax = df.plot.bar(x='lab', y='val', rot=0)\n",
    "\n",
    "plot1_variable = pd.DataFrame({'Accident Level':['Severe','Property Damage Only'],'Count':[severe_count,non_severe]})\n",
    "plot1 = plot1_variable.plot.bar(x='Accident Level',y= 'Count', rot = 0)\n",
    "\n"
   ]
  },
  {
   "cell_type": "markdown",
   "metadata": {},
   "source": [
    "After the data was cleaned, a total of 9,319 accidents were kept. As the graphs shows above, 3524 are considered severe, that is, a person(s) was injured and 5795 were not severe, that is, only damage to property occurred. "
   ]
  },
  {
   "cell_type": "markdown",
   "metadata": {},
   "source": [
    "Next, individual data analysis will be performed on each of the two categories, severe and not severe. Conditions for each will be counted and further analyzed. "
   ]
  },
  {
   "cell_type": "code",
   "execution_count": 31,
   "metadata": {},
   "outputs": [],
   "source": [
    "# Create a dataframe that contains only severe accidents \n",
    "# Create a dataframe that containes only non-severe accidents \n",
    "#df_filtered = df[df['Age'] >= 25]\n",
    "\n",
    "clean_severeDF = clean_df[clean_df['SEVERITYDESC'] != 'Property Damage Only Collision']\n",
    "clean_non_severeDF = clean_df[clean_df['SEVERITYDESC'] != 'Injury Collision']\n"
   ]
  },
  {
   "cell_type": "code",
   "execution_count": 51,
   "metadata": {},
   "outputs": [
    {
     "name": "stdout",
     "output_type": "stream",
     "text": [
      "Count of Severe Accidents under bad weather conditions: 1845\n",
      "Count of Severe Accidents under influence: 604\n",
      "Count of Severe Accidents under wet road conditions: 1548\n",
      "Count of Severe Accidents under no-daylight conditions: 1707\n",
      "Count of Severe Accidents under speeding conditions: 3524\n"
     ]
    }
   ],
   "source": [
    "# Create a for loop that counts weather conditions (clear or not clear), road conditions \n",
    "#(dry or not dry),Light conditions,speeding (Y or N), under influence (Y or N)\n",
    "\n",
    "under_influence = 0 \n",
    "clear = 0 \n",
    "wet_road = 0 \n",
    "light = 0 \n",
    "speed = 0 \n",
    "\n",
    "for i in clean_severeDF['UNDERINFL']:\n",
    "    if i == '1':\n",
    "        under_influence += 1 \n",
    "for i in clean_severeDF['UNDERINFL']:\n",
    "    if i == 'Y':\n",
    "        under_influence += 1\n",
    "\n",
    "for i in clean_severeDF['WEATHER']:\n",
    "    if i == 'Clear':\n",
    "        clear += 1\n",
    "# this variable shows count of non-clear weather conditions \n",
    "bad_weather = 3534 - clear \n",
    "\n",
    "\n",
    "\n",
    "for i in clean_severeDF['ROADCOND']:\n",
    "    if i == 'Wet':\n",
    "        wet_road += 1\n",
    "\n",
    "\n",
    "\n",
    "for i in clean_severeDF['LIGHTCOND']:\n",
    "    if i == 'Daylight':\n",
    "        light += 1\n",
    "not_light = 3534-light\n",
    "\n",
    "\n",
    "\n",
    "\n",
    "for i in clean_severeDF['SPEEDING']:\n",
    "    if i == 'Y':\n",
    "        speed += 1\n",
    "        \n",
    "print('Count of Severe Accidents under bad weather conditions:', bad_weather)\n",
    "print('Count of Severe Accidents under influence:', under_influence)\n",
    "print('Count of Severe Accidents under wet road conditions:', wet_road)\n",
    "print('Count of Severe Accidents under no-daylight conditions:', not_light)\n",
    "print('Count of Severe Accidents under speeding conditions:', speed)\n",
    "\n"
   ]
  },
  {
   "cell_type": "markdown",
   "metadata": {},
   "source": [
    "### Severe Accident Summary"
   ]
  },
  {
   "cell_type": "markdown",
   "metadata": {},
   "source": [
    "| Category           | Yes     | No       | Percent Total |\n",
    "|--------------------|---------|----------|---------------|\n",
    "| Bad Weather        |1845     |1679      | 52.35         |               \n",
    "| Under Influence    |604      |2920      | 17.13         |\n",
    "| Wet Road           |1548     |1976      | 43.92         |\n",
    "| No Daylight        |1707     |1817      | 48.4          |"
   ]
  },
  {
   "cell_type": "markdown",
   "metadata": {},
   "source": [
    "As it is clearly shown on the graph above, 52.35% of the severe accidents happened under bad weather conditions followed by the second highest at 48.4% which was when there was no daylight. "
   ]
  },
  {
   "cell_type": "markdown",
   "metadata": {},
   "source": [
    "Below, a similar analysis will be performed for non-severe accidents. "
   ]
  },
  {
   "cell_type": "code",
   "execution_count": 56,
   "metadata": {},
   "outputs": [
    {
     "name": "stdout",
     "output_type": "stream",
     "text": [
      "Count of non-Severe Accidents under bad weather conditions: 3376\n",
      "Count of non-Severe Accidents under influence: 644\n",
      "Count of non-Severe Accidents under wet road conditions: 2848\n",
      "Count of non-Severe Accidents under no-daylight conditions: 3119\n",
      "Count of non-Severe Accidents under speeding conditions: 5795\n"
     ]
    }
   ],
   "source": [
    "under_influence = 0 \n",
    "clear = 0 \n",
    "wet_road = 0 \n",
    "light = 0 \n",
    "speed = 0 \n",
    "\n",
    "for i in clean_non_severeDF['UNDERINFL']:\n",
    "    if i == '1':\n",
    "        under_influence += 1 \n",
    "for i in clean_non_severeDF['UNDERINFL']:\n",
    "    if i == 'Y':\n",
    "        under_influence += 1\n",
    "\n",
    "for i in clean_non_severeDF['WEATHER']:\n",
    "    if i == 'Clear':\n",
    "        clear += 1\n",
    "bad_weather = 5795 - clear \n",
    "\n",
    "for i in clean_non_severeDF['ROADCOND']:\n",
    "    if i == 'Wet':\n",
    "        wet_road += 1\n",
    "\n",
    "\n",
    "\n",
    "for i in clean_non_severeDF['LIGHTCOND']:\n",
    "    if i == 'Daylight':\n",
    "        light += 1\n",
    "not_light = 5795-light\n",
    "\n",
    "\n",
    "\n",
    "\n",
    "for i in clean_non_severeDF['SPEEDING']:\n",
    "    if i == 'Y':\n",
    "        speed += 1\n",
    "        \n",
    "print('Count of non-Severe Accidents under bad weather conditions:', bad_weather)\n",
    "print('Count of non-Severe Accidents under influence:', under_influence)\n",
    "print('Count of non-Severe Accidents under wet road conditions:', wet_road)\n",
    "print('Count of non-Severe Accidents under no-daylight conditions:', not_light)\n",
    "print('Count of non-Severe Accidents under speeding conditions:', speed)"
   ]
  },
  {
   "cell_type": "markdown",
   "metadata": {},
   "source": [
    "### Non-Severe Accident Summary "
   ]
  },
  {
   "cell_type": "markdown",
   "metadata": {},
   "source": [
    "| Category           | Yes     | No       | Percent Total |\n",
    "|--------------------|---------|----------|---------------|\n",
    "| Bad Weather        |3376     |2419      |58.26          |               \n",
    "| Under Influence    |644      |5151      |11.11          |\n",
    "| Wet Road           |2848     |2947      |49.14          |\n",
    "| No Daylight        |3119     |2676      |53.82          |"
   ]
  },
  {
   "cell_type": "markdown",
   "metadata": {},
   "source": [
    "Again, as it is clear in the summary chart above, the two highest conditions that are true during an accident are bad weather (58.26%) and non-daylight conditions (53.82%). These features will be key in the development of the prediction algorithms in the next sections. "
   ]
  },
  {
   "cell_type": "markdown",
   "metadata": {},
   "source": [
    "# Methodology "
   ]
  },
  {
   "cell_type": "markdown",
   "metadata": {},
   "source": [
    "For this report and analysis, we will attempt to predict whether an accident will be severe or not under the following conditions: \n",
    "Weather, driving under the influence, wet road condition and lack of daylight. \n",
    "\n",
    "The first step was collecting the data which can be found on the data section of this report. The data initially contained +190,000 rows and 38 features. The second step, was cleaning the data and visualizing it to have a better understanding of what can be used and what should be discarded for this analysis. \n",
    "\n",
    "Third, after having a good understanding of the data, it will be modeled using machine learning algorithims used to predict the likelihood of an accident being severe given certain conditions. These will be compared and validated using standard accuracy tests. Given that the variable we are trying to predict, whether an accident will be severe or not, Logistic Regression is the ideal machine learning algorithm to be used. \n",
    "\n",
    "Finally, the results and conclusions will be summarized and reported. \n"
   ]
  },
  {
   "cell_type": "markdown",
   "metadata": {},
   "source": [
    "# Analysis"
   ]
  },
  {
   "cell_type": "markdown",
   "metadata": {},
   "source": [
    "This section of the report contains the code and raw results from the analysis and modeling of the data. "
   ]
  },
  {
   "cell_type": "code",
   "execution_count": 81,
   "metadata": {},
   "outputs": [],
   "source": [
    "# Make sure all relevant libraries are installed \n",
    "\n",
    "import pandas as pd\n",
    "import pylab as pl\n",
    "import numpy as np\n",
    "import scipy.optimize as opt\n",
    "from sklearn import preprocessing\n",
    "%matplotlib inline \n",
    "import matplotlib.pyplot as plt"
   ]
  },
  {
   "cell_type": "markdown",
   "metadata": {},
   "source": [
    "Below, I will define X, that is all the features that will be used to predic the the severity of the accident. Also, y, severity of the accident will also be defined. "
   ]
  },
  {
   "cell_type": "code",
   "execution_count": 82,
   "metadata": {},
   "outputs": [
    {
     "data": {
      "text/plain": [
       "array([['N', 'Clear', 'Dry', 'Daylight'],\n",
       "       ['0', 'Raining', 'Wet', 'Dark - Street Lights On'],\n",
       "       ['0', 'Clear', 'Dry', 'Daylight'],\n",
       "       ['0', 'Raining', 'Wet', 'Daylight'],\n",
       "       ['Y', 'Clear', 'Dry', 'Daylight']], dtype=object)"
      ]
     },
     "execution_count": 82,
     "metadata": {},
     "output_type": "execute_result"
    }
   ],
   "source": [
    "X = np.asarray(clean_df[['UNDERINFL', 'WEATHER', 'ROADCOND', 'LIGHTCOND']])\n",
    "X[0:5]"
   ]
  },
  {
   "cell_type": "code",
   "execution_count": 83,
   "metadata": {},
   "outputs": [
    {
     "data": {
      "text/html": [
       "<div>\n",
       "<style scoped>\n",
       "    .dataframe tbody tr th:only-of-type {\n",
       "        vertical-align: middle;\n",
       "    }\n",
       "\n",
       "    .dataframe tbody tr th {\n",
       "        vertical-align: top;\n",
       "    }\n",
       "\n",
       "    .dataframe thead th {\n",
       "        text-align: right;\n",
       "    }\n",
       "</style>\n",
       "<table border=\"1\" class=\"dataframe\">\n",
       "  <thead>\n",
       "    <tr style=\"text-align: right;\">\n",
       "      <th></th>\n",
       "      <th>UNDERINFL</th>\n",
       "      <th>WEATHER</th>\n",
       "      <th>ROADCOND</th>\n",
       "      <th>LIGHTCOND</th>\n",
       "      <th>SEVERITYDESC</th>\n",
       "    </tr>\n",
       "  </thead>\n",
       "  <tbody>\n",
       "    <tr>\n",
       "      <th>24</th>\n",
       "      <td>0</td>\n",
       "      <td>0</td>\n",
       "      <td>0</td>\n",
       "      <td>0</td>\n",
       "      <td>Injury Collision</td>\n",
       "    </tr>\n",
       "    <tr>\n",
       "      <th>43</th>\n",
       "      <td>0</td>\n",
       "      <td>1</td>\n",
       "      <td>1</td>\n",
       "      <td>1</td>\n",
       "      <td>Injury Collision</td>\n",
       "    </tr>\n",
       "    <tr>\n",
       "      <th>62</th>\n",
       "      <td>0</td>\n",
       "      <td>0</td>\n",
       "      <td>0</td>\n",
       "      <td>0</td>\n",
       "      <td>Property Damage Only Collision</td>\n",
       "    </tr>\n",
       "    <tr>\n",
       "      <th>123</th>\n",
       "      <td>0</td>\n",
       "      <td>1</td>\n",
       "      <td>1</td>\n",
       "      <td>0</td>\n",
       "      <td>Property Damage Only Collision</td>\n",
       "    </tr>\n",
       "    <tr>\n",
       "      <th>124</th>\n",
       "      <td>1</td>\n",
       "      <td>0</td>\n",
       "      <td>0</td>\n",
       "      <td>0</td>\n",
       "      <td>Injury Collision</td>\n",
       "    </tr>\n",
       "    <tr>\n",
       "      <th>...</th>\n",
       "      <td>...</td>\n",
       "      <td>...</td>\n",
       "      <td>...</td>\n",
       "      <td>...</td>\n",
       "      <td>...</td>\n",
       "    </tr>\n",
       "    <tr>\n",
       "      <th>194414</th>\n",
       "      <td>0</td>\n",
       "      <td>1</td>\n",
       "      <td>1</td>\n",
       "      <td>1</td>\n",
       "      <td>Property Damage Only Collision</td>\n",
       "    </tr>\n",
       "    <tr>\n",
       "      <th>194428</th>\n",
       "      <td>0</td>\n",
       "      <td>1</td>\n",
       "      <td>0</td>\n",
       "      <td>1</td>\n",
       "      <td>Injury Collision</td>\n",
       "    </tr>\n",
       "    <tr>\n",
       "      <th>194481</th>\n",
       "      <td>0</td>\n",
       "      <td>1</td>\n",
       "      <td>1</td>\n",
       "      <td>0</td>\n",
       "      <td>Injury Collision</td>\n",
       "    </tr>\n",
       "    <tr>\n",
       "      <th>194492</th>\n",
       "      <td>0</td>\n",
       "      <td>1</td>\n",
       "      <td>1</td>\n",
       "      <td>1</td>\n",
       "      <td>Property Damage Only Collision</td>\n",
       "    </tr>\n",
       "    <tr>\n",
       "      <th>194549</th>\n",
       "      <td>0</td>\n",
       "      <td>1</td>\n",
       "      <td>1</td>\n",
       "      <td>1</td>\n",
       "      <td>Property Damage Only Collision</td>\n",
       "    </tr>\n",
       "  </tbody>\n",
       "</table>\n",
       "<p>9319 rows × 5 columns</p>\n",
       "</div>"
      ],
      "text/plain": [
       "        UNDERINFL  WEATHER  ROADCOND  LIGHTCOND  \\\n",
       "24              0        0         0          0   \n",
       "43              0        1         1          1   \n",
       "62              0        0         0          0   \n",
       "123             0        1         1          0   \n",
       "124             1        0         0          0   \n",
       "...           ...      ...       ...        ...   \n",
       "194414          0        1         1          1   \n",
       "194428          0        1         0          1   \n",
       "194481          0        1         1          0   \n",
       "194492          0        1         1          1   \n",
       "194549          0        1         1          1   \n",
       "\n",
       "                          SEVERITYDESC  \n",
       "24                    Injury Collision  \n",
       "43                    Injury Collision  \n",
       "62      Property Damage Only Collision  \n",
       "123     Property Damage Only Collision  \n",
       "124                   Injury Collision  \n",
       "...                                ...  \n",
       "194414  Property Damage Only Collision  \n",
       "194428                Injury Collision  \n",
       "194481                Injury Collision  \n",
       "194492  Property Damage Only Collision  \n",
       "194549  Property Damage Only Collision  \n",
       "\n",
       "[9319 rows x 5 columns]"
      ]
     },
     "execution_count": 83,
     "metadata": {},
     "output_type": "execute_result"
    }
   ],
   "source": [
    "#ddf['edjefe'].replace({'no': 0, 'yes': 1})\n",
    "#modify the dataframe to contain integers only \n",
    "#cols = [\"Weight\",\"Height\",\"BootSize\",\"SuitSize\",\"Type\"]\n",
    "#df2[cols] = df2[cols].replace({'0':np.nan, 0:np.nan})\n",
    "\n",
    "\n",
    "cols = ['UNDERINFL','WEATHER','ROADCOND','LIGHTCOND','SEVERITYDESC']\n",
    "int_clean_df = clean_df[cols].replace({'N':0,'Y':1,'0':0,'1':1,'Clear':0,'Raining':1,'Blowing Sand/Dirt':1,'Fog/Smog/Smoke':1,'Other':1,'Overcast':1,'Severe Crosswind':1,'Sleet/Hail/Freezing Rain':1,'Snowing':1,'Unknown':1,'Dry':0,'Ice':1,'Oil':1,'Other':1,'Sand/Mud/Dirt':1,'Snow/Slush':1,'Standing Water':1,'Unknown':1,'Wet':1,'Daylight': 0,'Dark - No Street Lights':1,'Dark - Street Lights Off':1,'Dark - Street Lights On':1,'Dawn':1,'Dusk':1,'Other':1,'Unknown':1})\n",
    "#int_clean_df = clean_df['WEATHER'].replace({'Clear':0,'Raining':1,'Blowing Sand/Dirt':1,'Fog/Smog/Smoke':1,'Other':1,'Overcast':1,'Severe Crosswind':1,'Sleet/Hail/Freezing Rain':1,'Snowing':1,'Unknown':1})\n",
    "#int_clean_df = clean_df['ROADCOND'].replace({'Dry':0,'Ice':1,'Oil':1,'Other':1,'Sand/Mud/Dirt':1,'Snow/Slush':1,'Standing Water':1,'Unknown':1,'Wet':1})\n",
    "#int_clean_df = clean_df['LIGHTCOND'].replace({'Daylight': 0,'Dark - No Street Lights':1,'Dark - Street Lights Off':1,'Dark - Street Lights On':1,'Dawn':1,'Dusk':1,'Other':1,'Unknown':1 })\n",
    "int_clean_df\n",
    "\n"
   ]
  },
  {
   "cell_type": "code",
   "execution_count": 84,
   "metadata": {},
   "outputs": [
    {
     "data": {
      "text/plain": [
       "array([[0, 0, 0, 0],\n",
       "       [0, 1, 1, 1],\n",
       "       [0, 0, 0, 0],\n",
       "       [0, 1, 1, 0],\n",
       "       [1, 0, 0, 0]])"
      ]
     },
     "execution_count": 84,
     "metadata": {},
     "output_type": "execute_result"
    }
   ],
   "source": [
    "#Define Matrix with features. 0 means good condition, 1 means bad conditions \n",
    "X = np.asarray(int_clean_df[['UNDERINFL', 'WEATHER', 'ROADCOND', 'LIGHTCOND']])\n",
    "X[0:5]"
   ]
  },
  {
   "cell_type": "code",
   "execution_count": 85,
   "metadata": {},
   "outputs": [
    {
     "data": {
      "text/plain": [
       "array(['Injury Collision', 'Injury Collision',\n",
       "       'Property Damage Only Collision', 'Property Damage Only Collision',\n",
       "       'Injury Collision'], dtype=object)"
      ]
     },
     "execution_count": 85,
     "metadata": {},
     "output_type": "execute_result"
    }
   ],
   "source": [
    "#define y intended prediction variable \n",
    "\n",
    "y = np.asarray(int_clean_df['SEVERITYDESC'])\n",
    "y [0:5]"
   ]
  },
  {
   "cell_type": "code",
   "execution_count": 86,
   "metadata": {},
   "outputs": [
    {
     "name": "stderr",
     "output_type": "stream",
     "text": [
      "/home/jupyterlab/conda/envs/python/lib/python3.6/site-packages/sklearn/utils/validation.py:595: DataConversionWarning: Data with input dtype int64 was converted to float64 by StandardScaler.\n",
      "  warnings.warn(msg, DataConversionWarning)\n",
      "/home/jupyterlab/conda/envs/python/lib/python3.6/site-packages/sklearn/utils/validation.py:595: DataConversionWarning: Data with input dtype int64 was converted to float64 by StandardScaler.\n",
      "  warnings.warn(msg, DataConversionWarning)\n"
     ]
    },
    {
     "data": {
      "text/plain": [
       "array([[-0.39322726, -1.12627727, -1.09970038, -1.03417079],\n",
       "       [-0.39322726,  0.88788083,  0.9093386 ,  0.96695828],\n",
       "       [-0.39322726, -1.12627727, -1.09970038, -1.03417079],\n",
       "       [-0.39322726,  0.88788083,  0.9093386 , -1.03417079],\n",
       "       [ 2.54305868, -1.12627727, -1.09970038, -1.03417079]])"
      ]
     },
     "execution_count": 86,
     "metadata": {},
     "output_type": "execute_result"
    }
   ],
   "source": [
    "# Normalize the data\n",
    "\n",
    "from sklearn import preprocessing\n",
    "X = preprocessing.StandardScaler().fit(X).transform(X)\n",
    "X[0:5]"
   ]
  },
  {
   "cell_type": "markdown",
   "metadata": {},
   "source": [
    "## Train/Test dataset"
   ]
  },
  {
   "cell_type": "code",
   "execution_count": 87,
   "metadata": {},
   "outputs": [
    {
     "name": "stdout",
     "output_type": "stream",
     "text": [
      "Train set: (7455, 4) (7455,)\n",
      "Test set: (1864, 4) (1864,)\n"
     ]
    }
   ],
   "source": [
    "from sklearn.model_selection import train_test_split\n",
    "X_train, X_test, y_train, y_test = train_test_split( X, y, test_size=0.2, random_state=4)\n",
    "print ('Train set:', X_train.shape,  y_train.shape)\n",
    "print ('Test set:', X_test.shape,  y_test.shape)"
   ]
  },
  {
   "cell_type": "markdown",
   "metadata": {},
   "source": [
    "## Build Logistic Regression Model "
   ]
  },
  {
   "cell_type": "markdown",
   "metadata": {},
   "source": [
    "After train/test/split the data I will build the Logistic Regression model shown below. "
   ]
  },
  {
   "cell_type": "code",
   "execution_count": 88,
   "metadata": {},
   "outputs": [
    {
     "data": {
      "text/plain": [
       "LogisticRegression(C=0.01, class_weight=None, dual=False, fit_intercept=True,\n",
       "          intercept_scaling=1, max_iter=100, multi_class='warn',\n",
       "          n_jobs=None, penalty='l2', random_state=None, solver='liblinear',\n",
       "          tol=0.0001, verbose=0, warm_start=False)"
      ]
     },
     "execution_count": 88,
     "metadata": {},
     "output_type": "execute_result"
    }
   ],
   "source": [
    "from sklearn.linear_model import LogisticRegression\n",
    "from sklearn.metrics import confusion_matrix\n",
    "LR = LogisticRegression(C=0.01, solver='liblinear').fit(X_train,y_train)\n",
    "LR"
   ]
  },
  {
   "cell_type": "code",
   "execution_count": 89,
   "metadata": {},
   "outputs": [
    {
     "data": {
      "text/plain": [
       "array(['Property Damage Only Collision', 'Property Damage Only Collision',\n",
       "       'Property Damage Only Collision', 'Property Damage Only Collision',\n",
       "       'Property Damage Only Collision', 'Injury Collision',\n",
       "       'Property Damage Only Collision', 'Property Damage Only Collision',\n",
       "       'Property Damage Only Collision', 'Property Damage Only Collision',\n",
       "       'Property Damage Only Collision', 'Property Damage Only Collision',\n",
       "       'Property Damage Only Collision', 'Property Damage Only Collision',\n",
       "       'Property Damage Only Collision', 'Property Damage Only Collision',\n",
       "       'Property Damage Only Collision', 'Property Damage Only Collision',\n",
       "       'Injury Collision', 'Property Damage Only Collision',\n",
       "       'Property Damage Only Collision', 'Property Damage Only Collision',\n",
       "       'Property Damage Only Collision', 'Property Damage Only Collision',\n",
       "       'Property Damage Only Collision', 'Property Damage Only Collision',\n",
       "       'Property Damage Only Collision', 'Property Damage Only Collision',\n",
       "       'Property Damage Only Collision', 'Property Damage Only Collision'],\n",
       "      dtype=object)"
      ]
     },
     "execution_count": 89,
     "metadata": {},
     "output_type": "execute_result"
    }
   ],
   "source": [
    "# Now, try and predict \n",
    "\n",
    "yhat = LR.predict(X_test)\n",
    "yhat[0:30]"
   ]
  },
  {
   "cell_type": "code",
   "execution_count": 90,
   "metadata": {},
   "outputs": [
    {
     "data": {
      "text/plain": [
       "array([[0.37165068, 0.62834932],\n",
       "       [0.36628375, 0.63371625],\n",
       "       [0.43816919, 0.56183081],\n",
       "       [0.43816919, 0.56183081],\n",
       "       [0.37765418, 0.62234582],\n",
       "       [0.51243479, 0.48756521],\n",
       "       [0.36035633, 0.63964367],\n",
       "       [0.36628375, 0.63371625],\n",
       "       [0.43816919, 0.56183081],\n",
       "       [0.43816919, 0.56183081],\n",
       "       [0.36628375, 0.63371625],\n",
       "       [0.30475857, 0.69524143],\n",
       "       [0.30475857, 0.69524143],\n",
       "       [0.36628375, 0.63371625],\n",
       "       [0.37165068, 0.62834932],\n",
       "       [0.43786093, 0.56213907],\n",
       "       [0.30475857, 0.69524143],\n",
       "       [0.30475857, 0.69524143],\n",
       "       [0.50667418, 0.49332582],\n",
       "       [0.37165068, 0.62834932],\n",
       "       [0.37165068, 0.62834932],\n",
       "       [0.36628375, 0.63371625],\n",
       "       [0.30475857, 0.69524143],\n",
       "       [0.44448711, 0.55551289],\n",
       "       [0.36628375, 0.63371625],\n",
       "       [0.36628375, 0.63371625],\n",
       "       [0.30475857, 0.69524143],\n",
       "       [0.43816919, 0.56183081],\n",
       "       [0.43816919, 0.56183081],\n",
       "       [0.43816919, 0.56183081]])"
      ]
     },
     "execution_count": 90,
     "metadata": {},
     "output_type": "execute_result"
    }
   ],
   "source": [
    "#the following will return the probability for all classes \n",
    "\n",
    "yhat_prob = LR.predict_proba(X_test)\n",
    "yhat_prob[0:30]"
   ]
  },
  {
   "cell_type": "markdown",
   "metadata": {},
   "source": [
    "# Evaluation and Results"
   ]
  },
  {
   "cell_type": "markdown",
   "metadata": {},
   "source": [
    "### Jaccard Index"
   ]
  },
  {
   "cell_type": "code",
   "execution_count": 91,
   "metadata": {},
   "outputs": [
    {
     "data": {
      "text/plain": [
       "0.6131974248927039"
      ]
     },
     "execution_count": 91,
     "metadata": {},
     "output_type": "execute_result"
    }
   ],
   "source": [
    "from sklearn.metrics import jaccard_similarity_score\n",
    "jaccard_similarity_score(y_test, yhat)"
   ]
  },
  {
   "cell_type": "markdown",
   "metadata": {},
   "source": [
    "### Logloss"
   ]
  },
  {
   "cell_type": "code",
   "execution_count": 75,
   "metadata": {},
   "outputs": [
    {
     "data": {
      "text/plain": [
       "0.6579357206666401"
      ]
     },
     "execution_count": 75,
     "metadata": {},
     "output_type": "execute_result"
    }
   ],
   "source": [
    "from sklearn.metrics import log_loss\n",
    "log_loss(y_test, yhat_prob)"
   ]
  },
  {
   "cell_type": "code",
   "execution_count": 76,
   "metadata": {},
   "outputs": [
    {
     "name": "stdout",
     "output_type": "stream",
     "text": [
      "                                precision    recall  f1-score   support\n",
      "\n",
      "              Injury Collision       0.46      0.12      0.19       708\n",
      "Property Damage Only Collision       0.63      0.92      0.75      1156\n",
      "\n",
      "                     micro avg       0.61      0.61      0.61      1864\n",
      "                     macro avg       0.55      0.52      0.47      1864\n",
      "                  weighted avg       0.57      0.61      0.54      1864\n",
      "\n"
     ]
    }
   ],
   "source": [
    "print (classification_report(y_test, yhat))"
   ]
  },
  {
   "cell_type": "markdown",
   "metadata": {},
   "source": [
    "# Discussion "
   ]
  },
  {
   "cell_type": "markdown",
   "metadata": {},
   "source": [
    "As the data, analysis and evaluation show, Logistic regression is good at predicting the severity of an accident when given the correct features. Since the variable of interest is categorical, logistic regression is also a good model for this prediction. \n",
    "\n",
    "From general data observation, I can note that most accidents occur during poor weather conditions and poor light conditions. In fact, these two factors are the highest determinants of causing an accident. \n",
    "\n"
   ]
  },
  {
   "cell_type": "markdown",
   "metadata": {},
   "source": [
    "# Conclusion "
   ]
  },
  {
   "cell_type": "markdown",
   "metadata": {},
   "source": [
    "In conclusion, there are several factors involved in an accident. Some of these factors are impossible to take into considerations so it is important to remember that the even the best prediction model cannot guarantee 100% accuracy. That being said, however, based on my results the two factors that contribute most to an accident happening are weather condition and light condition. In fact, these two factors also contribute to the severity of the accidents as well. \n",
    "\n",
    "As a recommendation to all people who drive, I would suggest to reconsider travelling when the weather and liht conditions are not optimal. If that is not possible, I would encourage extra caution to avoid any collision. "
   ]
  },
  {
   "cell_type": "code",
   "execution_count": null,
   "metadata": {},
   "outputs": [],
   "source": []
  }
 ],
 "metadata": {
  "kernelspec": {
   "display_name": "Python",
   "language": "python",
   "name": "conda-env-python-py"
  },
  "language_info": {
   "codemirror_mode": {
    "name": "ipython",
    "version": 3
   },
   "file_extension": ".py",
   "mimetype": "text/x-python",
   "name": "python",
   "nbconvert_exporter": "python",
   "pygments_lexer": "ipython3",
   "version": "3.6.11"
  }
 },
 "nbformat": 4,
 "nbformat_minor": 4
}
